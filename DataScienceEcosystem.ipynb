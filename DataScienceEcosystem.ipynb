{
 "cells": [
  {
   "cell_type": "markdown",
   "id": "4c886652-47df-4e90-9e9b-4deca674fbf2",
   "metadata": {},
   "source": [
    "#Data Science Tools and Ecosystem"
   ]
  },
  {
   "cell_type": "markdown",
   "id": "281cd99f-3c72-4297-bd7e-8d13960aa869",
   "metadata": {},
   "source": [
    "#In this notebook, Data Science Tools and Ecosystems are summarized."
   ]
  },
  {
   "cell_type": "markdown",
   "id": "d644744f-2765-4b22-9da1-9fb7fa89ed42",
   "metadata": {},
   "source": [
    "#Some of the popular languages that Data Scientists use are:"
   ]
  },
  {
   "cell_type": "markdown",
   "id": "ba9f02f3-b9cd-4dcd-88d2-1876f5f50518",
   "metadata": {},
   "source": [
    "1. R\n",
    "1. Python\n",
    "1. Javascript\n",
    "1. C++"
   ]
  },
  {
   "cell_type": "markdown",
   "id": "b198ad87-3e7b-42e1-8e7b-2f3c5d912b39",
   "metadata": {},
   "source": [
    "#Some of the commonly used libraries used by Data Scientists include:"
   ]
  },
  {
   "cell_type": "markdown",
   "id": "a4cd3c25-6be4-4f23-9113-be997195513a",
   "metadata": {},
   "source": [
    "1. ggplot\n",
    "2. dplyr\n",
    "3. matlib"
   ]
  },
  {
   "cell_type": "markdown",
   "id": "1b656ec7-7468-4d34-a112-f5c67003f985",
   "metadata": {},
   "source": [
    "| Data Science Tools |\n",
    "|---|\n",
    "| Anaconda |\n",
    "| JupyterLabs |\n",
    "| R-studio |"
   ]
  },
  {
   "cell_type": "markdown",
   "id": "910be5bd-cd72-44c8-b908-473e8b7eec26",
   "metadata": {},
   "source": [
    "### Below are a few examples of evaluating arithmetic expressions in Python"
   ]
  },
  {
   "cell_type": "code",
   "execution_count": 4,
   "id": "aa7f16ae-46f0-4d82-b7d8-b0c6de7e28e3",
   "metadata": {},
   "outputs": [
    {
     "data": {
      "text/plain": [
       "17"
      ]
     },
     "execution_count": 4,
     "metadata": {},
     "output_type": "execute_result"
    }
   ],
   "source": [
    "(3*4)+5"
   ]
  },
  {
   "cell_type": "markdown",
   "id": "c861e9a8-1923-47f4-839c-619fdca40f5f",
   "metadata": {},
   "source": [
    "#This will convert 200 minutes to hours bz dividing by 60"
   ]
  },
  {
   "cell_type": "code",
   "execution_count": 5,
   "id": "7ceba5d7-c2c8-4f38-a3ad-bbcacd53091e",
   "metadata": {},
   "outputs": [
    {
     "data": {
      "text/plain": [
       "3.3333333333333335"
      ]
     },
     "execution_count": 5,
     "metadata": {},
     "output_type": "execute_result"
    }
   ],
   "source": [
    "200/60"
   ]
  },
  {
   "cell_type": "markdown",
   "id": "95e1d5c4-891a-4354-957a-ebf8c56bfbce",
   "metadata": {},
   "source": [
    "**Objectives**"
   ]
  },
  {
   "cell_type": "markdown",
   "id": "51779c17-9b5a-4689-ad14-208dc9737038",
   "metadata": {},
   "source": [
    "- list popular languages for data science\n",
    "- list common libraries used in data science \n",
    "- list data science tools"
   ]
  },
  {
   "cell_type": "markdown",
   "id": "e87a2185-e2a8-4d50-95f8-00dc11e646d5",
   "metadata": {},
   "source": [
    "## Author\n",
    "Nicolas Monti"
   ]
  },
  {
   "cell_type": "code",
   "execution_count": null,
   "id": "6f6ea7e1-68fe-437a-8466-36552a9a04e5",
   "metadata": {},
   "outputs": [],
   "source": []
  }
 ],
 "metadata": {
  "kernelspec": {
   "display_name": "Python 3 (ipykernel)",
   "language": "python",
   "name": "python3"
  },
  "language_info": {
   "codemirror_mode": {
    "name": "ipython",
    "version": 3
   },
   "file_extension": ".py",
   "mimetype": "text/x-python",
   "name": "python",
   "nbconvert_exporter": "python",
   "pygments_lexer": "ipython3",
   "version": "3.10.9"
  }
 },
 "nbformat": 4,
 "nbformat_minor": 5
}
